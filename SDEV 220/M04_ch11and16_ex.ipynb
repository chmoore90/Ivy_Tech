{
 "cells": [
  {
   "cell_type": "code",
   "execution_count": 1,
   "metadata": {},
   "outputs": [
    {
     "name": "stdout",
     "output_type": "stream",
     "text": [
      "Open 9-5 daily\n"
     ]
    }
   ],
   "source": [
    "# 11.1 Importing from a file\n",
    "import zoo\n",
    "\n",
    "print(zoo.hours()) "
   ]
  },
  {
   "cell_type": "code",
   "execution_count": 2,
   "metadata": {},
   "outputs": [
    {
     "name": "stdout",
     "output_type": "stream",
     "text": [
      "Open 9-5 daily\n"
     ]
    }
   ],
   "source": [
    "# 11.2 Importing from a file with alias\n",
    "import zoo as menagerie\n",
    "\n",
    "print(menagerie.hours())\n"
   ]
  },
  {
   "cell_type": "markdown",
   "metadata": {},
   "source": [
    "# Disclaimer:\n",
    "I worked on all the chapter 16 exercises, but I marked out the assigned one (16.8) for you to grade."
   ]
  },
  {
   "cell_type": "code",
   "execution_count": 3,
   "metadata": {},
   "outputs": [],
   "source": [
    "# 16.1 Writing a CSV file\n",
    "with open(\"books.csv\", \"w\") as f:\n",
    "    f.write(f\"author,book\\nJ R R Tolkein,The Hobbit\\nLynne Truss,\\\"Eats, Shoots & Leaves\\\"\")"
   ]
  },
  {
   "cell_type": "code",
   "execution_count": 4,
   "metadata": {},
   "outputs": [
    {
     "name": "stdout",
     "output_type": "stream",
     "text": [
      "author,book\n",
      "\n",
      "J R R Tolkein,The Hobbit\n",
      "\n",
      "Lynne Truss,\"Eats, Shoots & Leaves\"\n"
     ]
    }
   ],
   "source": [
    "# 16.2 Using csv.DictReader method\n",
    "import csv\n",
    "\n",
    "with open(\"books.csv\", \"r\") as f:\n",
    "    books = csv.DictReader(f)\n",
    "    for line in f:\n",
    "        print(line)"
   ]
  },
  {
   "attachments": {},
   "cell_type": "markdown",
   "metadata": {},
   "source": [
    "Yes, DictReader was able to handle the quotes and commas in the second book title."
   ]
  },
  {
   "cell_type": "code",
   "execution_count": 5,
   "metadata": {},
   "outputs": [],
   "source": [
    "# 16.3 Writing another csv file\n",
    "with open(\"books2.csv\", \"w\") as f:\n",
    "    f.writelines(\"title,author,year\\n\"\n",
    "                 \"The Weirdstone of Brisingamen,Alan Garner,1960\\n\"\n",
    "                 \"Perdido Street Station,China Miéville,2000\\n\"\n",
    "                 \"Thud!,Terry Pratchett,2005\\n\"\n",
    "                 \"The Spellman Files,Lisa Lutz,2007\\n\"\n",
    "                 \"Small Gods,Terry Pratchett,1992\\n\"\n",
    "                 )"
   ]
  },
  {
   "cell_type": "code",
   "execution_count": 6,
   "metadata": {},
   "outputs": [],
   "source": [
    "# 16.4 Create a SQLite3 database\n",
    "import sqlite3\n",
    "\n",
    "conn = sqlite3.connect(\"books.db\")\n",
    "curs = conn.cursor()\n",
    "\n",
    "curs.execute(\"\"\"\n",
    "    CREATE TABLE IF NOT EXISTS books(\n",
    "        title VARCHAR(20) PRIMARY KEY,\n",
    "        author VARCHAR(20),\n",
    "        year INT\n",
    ")\"\"\")\n",
    "\n",
    "conn.commit()"
   ]
  },
  {
   "cell_type": "code",
   "execution_count": 7,
   "metadata": {},
   "outputs": [],
   "source": [
    "# 16.5 Read books2.csv and insert its data into the book table.\n",
    "with open(\"books2.csv\", \"r\") as f:\n",
    "    f.readline()\n",
    "\n",
    "    insert = \"INSERT INTO books VALUES(?, ?, ?)\"\n",
    "\n",
    "    for row in f:\n",
    "        line = row.strip().split(\",\")\n",
    "        curs.execute(insert, (line[0], line[1], line[2]))\n",
    "    \n",
    "    conn.commit()"
   ]
  },
  {
   "cell_type": "code",
   "execution_count": 8,
   "metadata": {},
   "outputs": [
    {
     "name": "stdout",
     "output_type": "stream",
     "text": [
      "('Perdido Street Station',)\n",
      "('Small Gods',)\n",
      "('The Spellman Files',)\n",
      "('The Weirdstone of Brisingamen',)\n",
      "('Thud!',)\n"
     ]
    }
   ],
   "source": [
    "# 16.6 Select and print the title column from the book table in alphabetical order.\n",
    "curs.execute(\"SELECT title FROM books ORDER BY title\")\n",
    "all_by_title = curs.fetchall()\n",
    "\n",
    "for i in range(len(all_by_title)):\n",
    "    print(all_by_title[i])"
   ]
  },
  {
   "cell_type": "code",
   "execution_count": 9,
   "metadata": {},
   "outputs": [
    {
     "name": "stdout",
     "output_type": "stream",
     "text": [
      "('The Weirdstone of Brisingamen', 'Alan Garner', 1960)\n",
      "('Small Gods', 'Terry Pratchett', 1992)\n",
      "('Perdido Street Station', 'China Miéville', 2000)\n",
      "('Thud!', 'Terry Pratchett', 2005)\n",
      "('The Spellman Files', 'Lisa Lutz', 2007)\n"
     ]
    }
   ],
   "source": [
    "# 16.7 Select and print all columns from the book table in order of publication.\n",
    "curs.execute(\"SELECT * FROM books ORDER BY year\")\n",
    "all_by_year = curs.fetchall()\n",
    "\n",
    "for x in range(len(all_by_year)):\n",
    "    print(all_by_year[x])"
   ]
  },
  {
   "cell_type": "code",
   "execution_count": 10,
   "metadata": {},
   "outputs": [],
   "source": [
    "# Commit and close connection, cursor\n",
    "conn.commit()\n",
    "curs.close()\n",
    "conn.close()"
   ]
  },
  {
   "cell_type": "markdown",
   "metadata": {},
   "source": [
    "## Mark me! (16.8)"
   ]
  },
  {
   "cell_type": "code",
   "execution_count": 11,
   "metadata": {},
   "outputs": [
    {
     "name": "stdout",
     "output_type": "stream",
     "text": [
      "('Perdido Street Station',)\n",
      "('Small Gods',)\n",
      "('The Spellman Files',)\n",
      "('The Weirdstone of Brisingamen',)\n",
      "('Thud!',)\n"
     ]
    }
   ],
   "source": [
    "# 16.8 Use the sqlalchemy module to connect to the sqlite3 database books.db. Select and print the title column from the book table in alphabetical order.\n",
    "import sqlalchemy as sa\n",
    "\n",
    "engine = sa.create_engine(\"sqlite:///books.db\")\n",
    "\n",
    "with engine.connect() as conn:\n",
    "    result = conn.execute(sa.text(\"SELECT title FROM books ORDER BY title\"))\n",
    "    titles = result.all()\n",
    "    \n",
    "    for t in range(len(titles)):\n",
    "        print(titles[t])"
   ]
  }
 ],
 "metadata": {
  "kernelspec": {
   "display_name": "Python 3",
   "language": "python",
   "name": "python3"
  },
  "language_info": {
   "codemirror_mode": {
    "name": "ipython",
    "version": 3
   },
   "file_extension": ".py",
   "mimetype": "text/x-python",
   "name": "python",
   "nbconvert_exporter": "python",
   "pygments_lexer": "ipython3",
   "version": "3.11.0"
  },
  "orig_nbformat": 4
 },
 "nbformat": 4,
 "nbformat_minor": 2
}
