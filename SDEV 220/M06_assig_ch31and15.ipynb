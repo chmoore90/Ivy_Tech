{
 "cells": [
  {
   "attachments": {},
   "cell_type": "markdown",
   "metadata": {},
   "source": [
    "## M06 Assignment - Concurrency in Python"
   ]
  },
  {
   "attachments": {},
   "cell_type": "markdown",
   "metadata": {},
   "source": [
    "### Chapter 13"
   ]
  },
  {
   "cell_type": "code",
   "execution_count": 2,
   "metadata": {},
   "outputs": [],
   "source": [
    "# 13.1 Write the current date as a string to the text file today.txt\n",
    "\n",
    "from datetime import datetime\n",
    "\n",
    "with open(\"today.txt\", \"w\") as t:\n",
    "    now = datetime.now()\n",
    "    t.write(datetime.ctime(now))"
   ]
  },
  {
   "cell_type": "code",
   "execution_count": 3,
   "metadata": {},
   "outputs": [
    {
     "name": "stdout",
     "output_type": "stream",
     "text": [
      "Mon May  1 14:45:42 2023\n"
     ]
    }
   ],
   "source": [
    "# 13.2 Read the text file today.txt into the string today_string\n",
    "\n",
    "with open(\"today.txt\", \"r\") as t:\n",
    "    today_string = t.read()\n",
    "\n",
    "print(today_string)"
   ]
  },
  {
   "cell_type": "code",
   "execution_count": 4,
   "metadata": {},
   "outputs": [
    {
     "name": "stdout",
     "output_type": "stream",
     "text": [
      "2023-05-01\n"
     ]
    }
   ],
   "source": [
    "# 13.3 Parse the date from today_string\n",
    "\n",
    "from datetime import date\n",
    "\n",
    "# separate elements of date_string into a list\n",
    "today_list = today_string.strip().split()\n",
    "\n",
    "# convert day and year to integers\n",
    "d = int(today_list[2])\n",
    "y = int(today_list[-1])\n",
    "\n",
    "# convert month to integer, using datetime.strptime()\n",
    "may = datetime.strptime(today_list[1], \"%B\")\n",
    "m = may.month\n",
    "\n",
    "# input d, m, y into date\n",
    "today = date(day=d, month=m, year=y)\n",
    "\n",
    "print(today)"
   ]
  },
  {
   "attachments": {},
   "cell_type": "markdown",
   "metadata": {},
   "source": [
    "### Chapter 15\n",
    "\n",
    "Only got this to work through the magic of Google. This is the page I used to get the code to work. Apparently Jupyter Notebook is weird with multiprocessing?\n",
    "https://stackoverflow.com/questions/47313732/jupyter-notebook-never-finishes-processing-using-multiprocessing-python-3"
   ]
  },
  {
   "cell_type": "code",
   "execution_count": 15,
   "metadata": {},
   "outputs": [
    {
     "name": "stdout",
     "output_type": "stream",
     "text": [
      "Process 0: Mon May  1 15:30:49 2023\n",
      "Process 1: Mon May  1 15:30:50 2023\n",
      "Process 2: Mon May  1 15:30:49 2023\n"
     ]
    }
   ],
   "source": [
    "# 15.1 Use multiprocessing to create three separate processes. Make each one wait a random number of seconds (0-1), print current time, then exit\n",
    "\n",
    "from multiprocessing import Pool\n",
    "# separate .py file with the actual function\n",
    "import M06_defs\n",
    "\n",
    "\n",
    "if __name__ == \"__main__\":\n",
    "    pool = Pool()\n",
    "    processes = [i for i in range(3)]\n",
    "    pool_map = pool.map(M06_defs.print_datetime, processes)\n",
    "\n",
    "    for process_name, process_output in zip(processes, pool_map):\n",
    "        print(process_output)"
   ]
  }
 ],
 "metadata": {
  "kernelspec": {
   "display_name": "Python 3",
   "language": "python",
   "name": "python3"
  },
  "language_info": {
   "codemirror_mode": {
    "name": "ipython",
    "version": 3
   },
   "file_extension": ".py",
   "mimetype": "text/x-python",
   "name": "python",
   "nbconvert_exporter": "python",
   "pygments_lexer": "ipython3",
   "version": "3.11.0"
  },
  "orig_nbformat": 4
 },
 "nbformat": 4,
 "nbformat_minor": 2
}
