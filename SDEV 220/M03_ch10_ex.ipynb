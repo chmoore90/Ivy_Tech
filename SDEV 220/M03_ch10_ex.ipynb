{
 "cells": [
  {
   "attachments": {},
   "cell_type": "markdown",
   "metadata": {},
   "source": [
    "# Disclaimer:\n",
    "I know we were only assigned a few of these questions, but I felt like I could use the practice. I marked out the assigned exercises so you can find them easily (10.1, 10.4, 10.5, 10.9)."
   ]
  },
  {
   "attachments": {},
   "cell_type": "markdown",
   "metadata": {},
   "source": [
    "## Mark me! (10.1)"
   ]
  },
  {
   "cell_type": "code",
   "execution_count": 1,
   "metadata": {},
   "outputs": [
    {
     "name": "stdout",
     "output_type": "stream",
     "text": [
      "<class '__main__.Thing'>\n",
      "<__main__.Thing object at 0x0000022ACE7E1350>\n"
     ]
    }
   ],
   "source": [
    "# 10.1 Classes vs. objects\n",
    "class Thing():\n",
    "    def __init__(self) -> None:\n",
    "        pass\n",
    "\n",
    "example = Thing()\n",
    "\n",
    "print(Thing)\n",
    "print(example)"
   ]
  },
  {
   "attachments": {},
   "cell_type": "markdown",
   "metadata": {},
   "source": [
    "Printed values for the class (Thing) and object (example) are different."
   ]
  },
  {
   "cell_type": "code",
   "execution_count": 2,
   "metadata": {},
   "outputs": [
    {
     "name": "stdout",
     "output_type": "stream",
     "text": [
      "abc\n"
     ]
    }
   ],
   "source": [
    "# 10.2 Attributes of a class\n",
    "class Thing2():\n",
    "    def __init__(self, letters) -> None:\n",
    "        self.letters = letters\n",
    "\n",
    "Thing2.letters = \"abc\"\n",
    "\n",
    "print(Thing2.letters)"
   ]
  },
  {
   "cell_type": "code",
   "execution_count": 3,
   "metadata": {},
   "outputs": [
    {
     "name": "stdout",
     "output_type": "stream",
     "text": [
      "xyz\n"
     ]
    }
   ],
   "source": [
    "# 10.3 Attributes of an object\n",
    "class Thing3():\n",
    "    def __init__(self) -> None:\n",
    "        pass\n",
    "\n",
    "obj = Thing3()\n",
    "obj.letters = 'xyz'\n",
    "\n",
    "print(obj.letters)"
   ]
  },
  {
   "attachments": {},
   "cell_type": "markdown",
   "metadata": {},
   "source": [
    "Yes, in order to make an attribute of an object, that object must exist."
   ]
  },
  {
   "attachments": {},
   "cell_type": "markdown",
   "metadata": {},
   "source": [
    "## Mark me! (10.4)"
   ]
  },
  {
   "cell_type": "code",
   "execution_count": 4,
   "metadata": {},
   "outputs": [
    {
     "name": "stdout",
     "output_type": "stream",
     "text": [
      "Hydrogen, H, 1\n"
     ]
    }
   ],
   "source": [
    "# 10.4 Creating objects with attributes\n",
    "class Element():\n",
    "    def __init__(self, name, symbol, number) -> None:\n",
    "        self.name = name\n",
    "        self.symbol = symbol\n",
    "        self.number = number\n",
    "\n",
    "hydrogen = Element(\"Hydrogen\", \"H\", 1)\n",
    "\n",
    "print(f\"{hydrogen.name}, {hydrogen.symbol}, {hydrogen.number}\")"
   ]
  },
  {
   "attachments": {},
   "cell_type": "markdown",
   "metadata": {},
   "source": [
    "## Mark me! (10.5)"
   ]
  },
  {
   "cell_type": "code",
   "execution_count": 5,
   "metadata": {},
   "outputs": [
    {
     "name": "stdout",
     "output_type": "stream",
     "text": [
      "{'name': 'Hydrogen', 'symbol': 'H', 'number': 1}\n",
      "Hydrogen, H, 1\n"
     ]
    }
   ],
   "source": [
    "# 10.5 Dictionaries vs. classes\n",
    "hydrogen_dict = {\n",
    "    \"name\": \"Hydrogen\",\n",
    "    \"symbol\": \"H\",\n",
    "    \"number\": 1,\n",
    "}\n",
    "\n",
    "hydrogen = Element(**hydrogen_dict)\n",
    "\n",
    "print(hydrogen_dict)\n",
    "print(f\"{hydrogen.name}, {hydrogen.symbol}, {hydrogen.number}\")"
   ]
  },
  {
   "cell_type": "code",
   "execution_count": 6,
   "metadata": {},
   "outputs": [
    {
     "name": "stdout",
     "output_type": "stream",
     "text": [
      "Hydrogen, H, 1\n"
     ]
    }
   ],
   "source": [
    "# 10.6 Methods in classes\n",
    "class Element():\n",
    "    def __init__(self, name, symbol, number) -> None:\n",
    "        self.name = name\n",
    "        self.symbol = symbol\n",
    "        self.number = number\n",
    "\n",
    "    def dump(self):\n",
    "        print(f\"{self.name}, {self.symbol}, {self.number}\")\n",
    "\n",
    "hydrogen = Element(**hydrogen_dict)\n",
    "\n",
    "hydrogen.dump()"
   ]
  },
  {
   "cell_type": "code",
   "execution_count": 7,
   "metadata": {},
   "outputs": [
    {
     "name": "stdout",
     "output_type": "stream",
     "text": [
      "<__main__.Element object at 0x0000022ACE7EA150>\n",
      "Hydrogen, H, 1\n"
     ]
    }
   ],
   "source": [
    "# 10.7 Using __str__\n",
    "print(hydrogen)\n",
    "\n",
    "class Element():\n",
    "    def __init__(self, name, symbol, number) -> None:\n",
    "        self.name = name\n",
    "        self.symbol = symbol\n",
    "        self.number = number\n",
    "    \n",
    "    def __str__(self) -> str:\n",
    "        return f\"{self.name}, {self.symbol}, {self.number}\"\n",
    "    \n",
    "hydrogen = Element(**hydrogen_dict)\n",
    "\n",
    "print(hydrogen)"
   ]
  },
  {
   "cell_type": "code",
   "execution_count": 8,
   "metadata": {},
   "outputs": [
    {
     "name": "stdout",
     "output_type": "stream",
     "text": [
      "Hydrogen\n",
      "H\n",
      "1\n"
     ]
    }
   ],
   "source": [
    "# 10.8 Private attributes and getters\n",
    "class Element():\n",
    "    def __init__(self, name, symbol, number) -> None:\n",
    "        self.__name = name\n",
    "        self.__symbol = symbol\n",
    "        self.__number = number\n",
    "\n",
    "    @property\n",
    "    def name(self):\n",
    "        return self.__name\n",
    "    @property\n",
    "    def symbol(self):\n",
    "        return self.__symbol\n",
    "    @property\n",
    "    def number(self):\n",
    "        return self.__number\n",
    "\n",
    "hydrogen = Element(**hydrogen_dict)\n",
    "\n",
    "print(hydrogen.name)\n",
    "print(hydrogen.symbol)\n",
    "print(hydrogen.number)"
   ]
  },
  {
   "attachments": {},
   "cell_type": "markdown",
   "metadata": {},
   "source": [
    "## Mark me! (10.9)"
   ]
  },
  {
   "cell_type": "code",
   "execution_count": 9,
   "metadata": {},
   "outputs": [
    {
     "name": "stdout",
     "output_type": "stream",
     "text": [
      "Berries\n",
      "Clover\n",
      "Campers\n"
     ]
    }
   ],
   "source": [
    "# 10.9 Calling class methods\n",
    "class Bear():\n",
    "    def eats(self):\n",
    "        return \"Berries\"\n",
    "        \n",
    "class Rabbit():\n",
    "    def eats(self):\n",
    "        return \"Clover\"\n",
    "        \n",
    "class Octothorpe():\n",
    "    def eats(self):\n",
    "        return \"Campers\"\n",
    "        \n",
    "smokey = Bear()\n",
    "bugs = Rabbit()\n",
    "fluffy = Octothorpe()\n",
    "\n",
    "print(smokey.eats())\n",
    "print(bugs.eats())\n",
    "print(fluffy.eats())"
   ]
  },
  {
   "cell_type": "code",
   "execution_count": 10,
   "metadata": {},
   "outputs": [
    {
     "name": "stdout",
     "output_type": "stream",
     "text": [
      "This robot can disintegrate, crush, and ring.\n"
     ]
    }
   ],
   "source": [
    "# 10.10 Classes within classes\n",
    "class Laser():\n",
    "    def does(self):\n",
    "        return \"disintegrate\"\n",
    "\n",
    "class Claw():\n",
    "    def does(self):\n",
    "        return \"crush\"\n",
    "    \n",
    "class SmartPhone():\n",
    "    def does(self):\n",
    "        return \"ring\"\n",
    "    \n",
    "class Robot():\n",
    "    def __init__(self) -> None:\n",
    "        self.laser = Laser()\n",
    "        self.claw = Claw()\n",
    "        self.smartphone = SmartPhone()\n",
    "\n",
    "    def does(self):\n",
    "        print(\n",
    "            f\"This robot can {self.laser.does()}, {self.claw.does()}, and {self.smartphone.does()}.\"\n",
    "        )\n",
    "\n",
    "bender = Robot()\n",
    "\n",
    "bender.does()"
   ]
  }
 ],
 "metadata": {
  "kernelspec": {
   "display_name": "Python 3",
   "language": "python",
   "name": "python3"
  },
  "language_info": {
   "codemirror_mode": {
    "name": "ipython",
    "version": 3
   },
   "file_extension": ".py",
   "mimetype": "text/x-python",
   "name": "python",
   "nbconvert_exporter": "python",
   "pygments_lexer": "ipython3",
   "version": "3.11.0"
  },
  "orig_nbformat": 4
 },
 "nbformat": 4,
 "nbformat_minor": 2
}
